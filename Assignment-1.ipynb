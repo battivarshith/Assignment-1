{
 "cells": [
  {
   "cell_type": "code",
   "execution_count": null,
   "id": "1d6d4f90-799b-4517-be84-5a2c834ab42e",
   "metadata": {},
   "outputs": [],
   "source": [
    "\"\"\" \n",
    "In the below elements which of them are values or an expression? \n",
    "# eg:- values can be integer or string and expressions will be mathematical operators.\n",
    "\n",
    "* [expression]\n",
    "\n",
    "'hello' [value]\n",
    "\n",
    "-87.8 [value]\n",
    "\n",
    "- [expression]\n",
    "\n",
    "/ [expression]\n",
    "\n",
    "+  [expression]\n",
    "6 [value]\n",
    "\"\"\"\n",
    "\n"
   ]
  },
  {
   "cell_type": "code",
   "execution_count": null,
   "id": "62769dd8-e549-4908-baa3-e1e4133c28a3",
   "metadata": {},
   "outputs": [],
   "source": [
    "# 2. What is the difference between string and variable?\n",
    "\n",
    "\"\"\"\n",
    "String:a data type used to represent text. \n",
    "it is a sequence of characters showed in single quotes (') or in double quotes (\")\n",
    "eg: 'hello', \"hi\"\n",
    "they are literal values. \n",
    "they contain actual data.\n",
    "\n",
    "Variable: it is a symbolic name used to store values.\n",
    "values can be changed during program excution. \n",
    "eg: name=shravya \n",
    "'here name is variable holding value as shravya'\n",
    "they are dynamic in nature. \n",
    "\"\"\"\n",
    "\n"
   ]
  },
  {
   "cell_type": "code",
   "execution_count": null,
   "id": "231b6c7a-cd44-4ed2-b740-ad92e19dd3f5",
   "metadata": {},
   "outputs": [],
   "source": [
    "# 3. Describe three different data types.\n",
    "\n",
    "\"\"\"\n",
    "integer(int): indicates whole numbers, positive and negative numbers without any deciaml points. \n",
    "eg: 2,-30\n",
    "\n",
    "float(float): indicates numbers that have decimal points. \n",
    "eg: 30.01\n",
    "\n",
    "String(str): indicates sequence of characters in quotes.\n",
    "eg: \"123\" ,'shravya'"
   ]
  },
  {
   "cell_type": "code",
   "execution_count": null,
   "id": "4cb4cc83-0afc-4e46-92c5-2f9d6db3669e",
   "metadata": {},
   "outputs": [],
   "source": [
    "# 4. What is an expression made up of? What do all expressions do?\n",
    "\n",
    "\"\"\"\n",
    "they are combined with operations, values, functions and variables.\n",
    "which are evaluated to produce results.\n",
    "it can be both simple or complex. \n",
    "\n",
    "expressions basically calculate to produce results. \n",
    "based on the values, variables, etc,."
   ]
  },
  {
   "cell_type": "code",
   "execution_count": null,
   "id": "693cde39-116d-48a2-a3e9-5d684e3f9a1a",
   "metadata": {},
   "outputs": [],
   "source": [
    "# 5. This assignment statements, like spam = 10. What is the difference between an expression and a statement?\n",
    "\n",
    "\"\"\"\n",
    "expression:it is a combination of values, variables, and operators that can be evaluated to produce result.\n",
    "it always returns results. \n",
    "\n",
    "Statement:it is a complete line of code that performs an action, but it does not return a value.\n",
    "It can contain expressions, but it itself doesn't return anything.\n",
    "\"\"\""
   ]
  },
  {
   "cell_type": "code",
   "execution_count": null,
   "id": "5414fb40-c8a4-44f8-aa1e-d51c662e6971",
   "metadata": {},
   "outputs": [],
   "source": [
    "\"\"\" \n",
    "6. After running the following code, what does the variable bacon contain?\n",
    "\n",
    " bacon = 22\n",
    "\n",
    " bacon + 1\n",
    "\"\"\"\n",
    "\n",
    "\"\"\"\n",
    "bacon = baocn + 1\n",
    "returns value 23 where as the original value is 22.\n",
    "\"\"\""
   ]
  },
  {
   "cell_type": "code",
   "execution_count": null,
   "id": "e5b251d9-b602-4aa1-be24-b388def10915",
   "metadata": {},
   "outputs": [],
   "source": [
    "\"\"\"\n",
    "7. What should the values of the following two terms be?\n",
    "\n",
    "'spam' + 'spamspam'\n",
    "\n",
    "'spam' * 3\n",
    "\"\"\"\n",
    "\n",
    "\"\"\"\n",
    "spamspamspam\n",
    "\n",
    "spamspamspam\n",
    "\"\"\""
   ]
  },
  {
   "cell_type": "code",
   "execution_count": null,
   "id": "7bf1c18f-b26d-40aa-ace4-4aaca14c18ea",
   "metadata": {},
   "outputs": [],
   "source": [
    "# 8. Why is eggs a valid variable name while 100 is invalid?\n",
    "\n",
    "\"\"\"\n",
    "egg starts with a letter (e), which is allowed.\n",
    "egg consists only of alphabetic characters, which are valid.\n",
    "\n",
    "100 starts with a number (1), which is not allowed for variable names.\n",
    "A variable name cannot begin with a number, though it can contain numbers after the first character.\n",
    "\"\"\""
   ]
  },
  {
   "cell_type": "code",
   "execution_count": null,
   "id": "5203317e-5f56-4e8f-b101-585f027fa146",
   "metadata": {},
   "outputs": [],
   "source": [
    "# 9. What three functions can be used to get the integer, floating-point number, or string version of a value?\n",
    "\n",
    "\"\"\"\n",
    "int(): Converts a value to an integer.\n",
    "Example: int('42') - 42\n",
    "Works with strings representing whole numbers, or can be used to convert floats to integers.\n",
    "float(): Converts a value to a floating-point number.\n",
    "Example: float('3.14') - 3.14\n",
    "Works with strings or integers, and converts them into a float.\n",
    "str(): Converts a value to a string.\n",
    "Example: str(42) - '42'\n",
    "Can be used to convert integers, floats, or other data types to their string representations.\n",
    "\"\"\""
   ]
  },
  {
   "cell_type": "code",
   "execution_count": null,
   "id": "b3f7e9b8-126d-4eec-8921-888bbd130d1d",
   "metadata": {},
   "outputs": [],
   "source": [
    "\"\"\"\n",
    "10. Why does this expression cause an error? How can you fix it?\n",
    "'I have eaten ' + 99 + ' burritos.'\n",
    "\"\"\"\n",
    "\n",
    "\"\"\"\n",
    "causes an error because Python is trying to concatenate a string ('I have eaten ') with an integer (99),\n",
    "and we can't directly concatenate a string with an integer in Python.\n",
    "Python raises a TypeError because it doesn't know how to add (concatenate) a string and an integer together.\n",
    "\n",
    "'I have eaten ' + str(99) + ' burritos.'\n",
    "\"\"\""
   ]
  }
 ],
 "metadata": {
  "kernelspec": {
   "display_name": "Python 3 (ipykernel)",
   "language": "python",
   "name": "python3"
  },
  "language_info": {
   "codemirror_mode": {
    "name": "ipython",
    "version": 3
   },
   "file_extension": ".py",
   "mimetype": "text/x-python",
   "name": "python",
   "nbconvert_exporter": "python",
   "pygments_lexer": "ipython3",
   "version": "3.10.13"
  }
 },
 "nbformat": 4,
 "nbformat_minor": 5
}
